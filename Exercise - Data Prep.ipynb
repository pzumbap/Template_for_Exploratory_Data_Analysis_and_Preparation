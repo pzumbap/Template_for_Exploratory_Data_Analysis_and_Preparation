{
 "cells": [
  {
   "attachments": {},
   "cell_type": "markdown",
   "metadata": {},
   "source": [
    "# Exploratory Data Analysis and Preparation\n",
    "## Understanding and Preprocessing Data for Advanced Analytics\n",
    "### Pablo X Zumba\n",
    "\n",
    "The data set for this exercise includes information on house sales in King County, Washington (between May 2014 and May 2015). (Each row in the data set pertains to one house. There is a total of 21,613 houses in the data set). Use the data set to practice your DATA PREP skills. \n",
    "<br><br>\n",
    "The data set is called \"kc_house_data.csv\".  \n"
   ]
  },
  {
   "attachments": {},
   "cell_type": "markdown",
   "metadata": {},
   "source": [
    "## Description of Variables\n",
    "\n",
    "The description and type of each variable is provided in \"KC house data - Data Dictionary.docx\". Make sure to read this document to learn about the variables. Please check if variables are numeric, binary, or categorical."
   ]
  },
  {
   "attachments": {},
   "cell_type": "markdown",
   "metadata": {},
   "source": [
    "# Setup"
   ]
  },
  {
   "cell_type": "code",
   "execution_count": 1,
   "metadata": {},
   "outputs": [],
   "source": [
    "# Common imports\n",
    "import numpy as np\n",
    "import pandas as pd\n",
    "\n",
    "np.random.seed(42)\n"
   ]
  },
  {
   "attachments": {},
   "cell_type": "markdown",
   "metadata": {},
   "source": [
    "# Get the data"
   ]
  },
  {
   "cell_type": "code",
   "execution_count": 2,
   "metadata": {},
   "outputs": [
    {
     "data": {
      "text/html": [
       "<div>\n",
       "<style scoped>\n",
       "    .dataframe tbody tr th:only-of-type {\n",
       "        vertical-align: middle;\n",
       "    }\n",
       "\n",
       "    .dataframe tbody tr th {\n",
       "        vertical-align: top;\n",
       "    }\n",
       "\n",
       "    .dataframe thead th {\n",
       "        text-align: right;\n",
       "    }\n",
       "</style>\n",
       "<table border=\"1\" class=\"dataframe\">\n",
       "  <thead>\n",
       "    <tr style=\"text-align: right;\">\n",
       "      <th></th>\n",
       "      <th>price</th>\n",
       "      <th>bedrooms</th>\n",
       "      <th>bathrooms</th>\n",
       "      <th>sqft_living</th>\n",
       "      <th>sqft_lot</th>\n",
       "      <th>floors</th>\n",
       "      <th>waterfront</th>\n",
       "      <th>view</th>\n",
       "      <th>condition</th>\n",
       "      <th>grade</th>\n",
       "      <th>sqft_above</th>\n",
       "      <th>sqft_basement</th>\n",
       "      <th>yr_built</th>\n",
       "      <th>yr_renovated</th>\n",
       "      <th>zipcode</th>\n",
       "      <th>lat</th>\n",
       "      <th>long</th>\n",
       "      <th>sqft_living15</th>\n",
       "      <th>sqft_lot15</th>\n",
       "    </tr>\n",
       "  </thead>\n",
       "  <tbody>\n",
       "    <tr>\n",
       "      <th>0</th>\n",
       "      <td>432000.0</td>\n",
       "      <td>5.0</td>\n",
       "      <td>2.75</td>\n",
       "      <td>2060.0</td>\n",
       "      <td>329903.0</td>\n",
       "      <td>1.5</td>\n",
       "      <td>0</td>\n",
       "      <td>3</td>\n",
       "      <td>5</td>\n",
       "      <td>7.0</td>\n",
       "      <td>2060</td>\n",
       "      <td>0</td>\n",
       "      <td>1989.0</td>\n",
       "      <td>0</td>\n",
       "      <td>98022.0</td>\n",
       "      <td>47.1776</td>\n",
       "      <td>-121.944</td>\n",
       "      <td>2240</td>\n",
       "      <td>220232.0</td>\n",
       "    </tr>\n",
       "    <tr>\n",
       "      <th>1</th>\n",
       "      <td>170000.0</td>\n",
       "      <td>2.0</td>\n",
       "      <td>1.00</td>\n",
       "      <td>810.0</td>\n",
       "      <td>8424.0</td>\n",
       "      <td>1.0</td>\n",
       "      <td>0</td>\n",
       "      <td>0</td>\n",
       "      <td>4</td>\n",
       "      <td>6.0</td>\n",
       "      <td>810</td>\n",
       "      <td>0</td>\n",
       "      <td>1959.0</td>\n",
       "      <td>0</td>\n",
       "      <td>98023.0</td>\n",
       "      <td>47.3286</td>\n",
       "      <td>-122.346</td>\n",
       "      <td>820</td>\n",
       "      <td>8424.0</td>\n",
       "    </tr>\n",
       "    <tr>\n",
       "      <th>2</th>\n",
       "      <td>235000.0</td>\n",
       "      <td>3.0</td>\n",
       "      <td>1.00</td>\n",
       "      <td>960.0</td>\n",
       "      <td>5030.0</td>\n",
       "      <td>1.0</td>\n",
       "      <td>0</td>\n",
       "      <td>0</td>\n",
       "      <td>3</td>\n",
       "      <td>7.0</td>\n",
       "      <td>960</td>\n",
       "      <td>0</td>\n",
       "      <td>1955.0</td>\n",
       "      <td>0</td>\n",
       "      <td>98118.0</td>\n",
       "      <td>47.5611</td>\n",
       "      <td>-122.280</td>\n",
       "      <td>1460</td>\n",
       "      <td>5400.0</td>\n",
       "    </tr>\n",
       "    <tr>\n",
       "      <th>3</th>\n",
       "      <td>350000.0</td>\n",
       "      <td>2.0</td>\n",
       "      <td>1.00</td>\n",
       "      <td>830.0</td>\n",
       "      <td>5100.0</td>\n",
       "      <td>1.0</td>\n",
       "      <td>0</td>\n",
       "      <td>0</td>\n",
       "      <td>4</td>\n",
       "      <td>7.0</td>\n",
       "      <td>830</td>\n",
       "      <td>0</td>\n",
       "      <td>1942.0</td>\n",
       "      <td>0</td>\n",
       "      <td>98126.0</td>\n",
       "      <td>47.5259</td>\n",
       "      <td>-122.379</td>\n",
       "      <td>1220</td>\n",
       "      <td>5100.0</td>\n",
       "    </tr>\n",
       "    <tr>\n",
       "      <th>4</th>\n",
       "      <td>397380.0</td>\n",
       "      <td>2.0</td>\n",
       "      <td>1.00</td>\n",
       "      <td>1030.0</td>\n",
       "      <td>5072.0</td>\n",
       "      <td>1.0</td>\n",
       "      <td>0</td>\n",
       "      <td>0</td>\n",
       "      <td>3</td>\n",
       "      <td>6.0</td>\n",
       "      <td>1030</td>\n",
       "      <td>0</td>\n",
       "      <td>1924.0</td>\n",
       "      <td>1958</td>\n",
       "      <td>98115.0</td>\n",
       "      <td>47.6962</td>\n",
       "      <td>-122.294</td>\n",
       "      <td>1220</td>\n",
       "      <td>6781.0</td>\n",
       "    </tr>\n",
       "  </tbody>\n",
       "</table>\n",
       "</div>"
      ],
      "text/plain": [
       "      price  bedrooms  bathrooms  sqft_living  sqft_lot  floors  waterfront  \\\n",
       "0  432000.0       5.0       2.75       2060.0  329903.0     1.5           0   \n",
       "1  170000.0       2.0       1.00        810.0    8424.0     1.0           0   \n",
       "2  235000.0       3.0       1.00        960.0    5030.0     1.0           0   \n",
       "3  350000.0       2.0       1.00        830.0    5100.0     1.0           0   \n",
       "4  397380.0       2.0       1.00       1030.0    5072.0     1.0           0   \n",
       "\n",
       "   view  condition  grade  sqft_above  sqft_basement  yr_built  yr_renovated  \\\n",
       "0     3          5    7.0        2060              0    1989.0             0   \n",
       "1     0          4    6.0         810              0    1959.0             0   \n",
       "2     0          3    7.0         960              0    1955.0             0   \n",
       "3     0          4    7.0         830              0    1942.0             0   \n",
       "4     0          3    6.0        1030              0    1924.0          1958   \n",
       "\n",
       "   zipcode      lat     long  sqft_living15  sqft_lot15  \n",
       "0  98022.0  47.1776 -121.944           2240    220232.0  \n",
       "1  98023.0  47.3286 -122.346            820      8424.0  \n",
       "2  98118.0  47.5611 -122.280           1460      5400.0  \n",
       "3  98126.0  47.5259 -122.379           1220      5100.0  \n",
       "4  98115.0  47.6962 -122.294           1220      6781.0  "
      ]
     },
     "execution_count": 2,
     "metadata": {},
     "output_type": "execute_result"
    }
   ],
   "source": [
    "# Import the data set:\n",
    "\n",
    "king_county = pd.read_csv(\"kc_house_data.csv\")\n",
    "king_county.head()\n"
   ]
  },
  {
   "cell_type": "code",
   "execution_count": 3,
   "metadata": {},
   "outputs": [
    {
     "data": {
      "text/plain": [
       "(21613, 19)"
      ]
     },
     "execution_count": 3,
     "metadata": {},
     "output_type": "execute_result"
    }
   ],
   "source": [
    "king_county.shape"
   ]
  },
  {
   "attachments": {},
   "cell_type": "markdown",
   "metadata": {},
   "source": [
    "# Split the data into train and test"
   ]
  },
  {
   "cell_type": "code",
   "execution_count": 4,
   "metadata": {},
   "outputs": [],
   "source": [
    "from sklearn.model_selection import train_test_split\n",
    "\n",
    "train, test = train_test_split(king_county, test_size=0.3)"
   ]
  },
  {
   "attachments": {},
   "cell_type": "markdown",
   "metadata": {},
   "source": [
    "## Check the missing values"
   ]
  },
  {
   "cell_type": "code",
   "execution_count": 5,
   "metadata": {},
   "outputs": [
    {
     "data": {
      "text/plain": [
       "price            0\n",
       "bedrooms         0\n",
       "bathrooms        0\n",
       "sqft_living      0\n",
       "sqft_lot         1\n",
       "floors           1\n",
       "waterfront       0\n",
       "view             0\n",
       "condition        0\n",
       "grade            1\n",
       "sqft_above       0\n",
       "sqft_basement    0\n",
       "yr_built         1\n",
       "yr_renovated     0\n",
       "zipcode          2\n",
       "lat              0\n",
       "long             0\n",
       "sqft_living15    0\n",
       "sqft_lot15       0\n",
       "dtype: int64"
      ]
     },
     "execution_count": 5,
     "metadata": {},
     "output_type": "execute_result"
    }
   ],
   "source": [
    "train.isna().sum()"
   ]
  },
  {
   "cell_type": "code",
   "execution_count": 6,
   "metadata": {},
   "outputs": [
    {
     "data": {
      "text/plain": [
       "price            0\n",
       "bedrooms         1\n",
       "bathrooms        0\n",
       "sqft_living      1\n",
       "sqft_lot         0\n",
       "floors           0\n",
       "waterfront       0\n",
       "view             0\n",
       "condition        0\n",
       "grade            0\n",
       "sqft_above       0\n",
       "sqft_basement    0\n",
       "yr_built         0\n",
       "yr_renovated     0\n",
       "zipcode          0\n",
       "lat              0\n",
       "long             0\n",
       "sqft_living15    0\n",
       "sqft_lot15       1\n",
       "dtype: int64"
      ]
     },
     "execution_count": 6,
     "metadata": {},
     "output_type": "execute_result"
    }
   ],
   "source": [
    "test.isna().sum()"
   ]
  },
  {
   "attachments": {},
   "cell_type": "markdown",
   "metadata": {},
   "source": [
    "# Data Prep"
   ]
  },
  {
   "cell_type": "code",
   "execution_count": 7,
   "metadata": {
    "scrolled": true
   },
   "outputs": [],
   "source": [
    "# Imports:\n",
    "from sklearn.compose import ColumnTransformer\n",
    "from sklearn.pipeline import Pipeline\n",
    "from sklearn.impute import SimpleImputer\n",
    "from sklearn.preprocessing import StandardScaler\n",
    "from sklearn.preprocessing import OneHotEncoder"
   ]
  },
  {
   "attachments": {},
   "cell_type": "markdown",
   "metadata": {},
   "source": [
    "## Separate the PRICE variable, which is the target variable (don't transform the target)"
   ]
  },
  {
   "cell_type": "code",
   "execution_count": 8,
   "metadata": {},
   "outputs": [],
   "source": [
    "# Separate the target variable and input variables\n",
    "train_targets = train[['price']]\n",
    "test_targets = test[['price']]\n",
    "\n",
    "train_inputs = train.drop(['price'], axis=1)\n",
    "test_inputs = test.drop(['price'], axis=1)\n"
   ]
  },
  {
   "attachments": {},
   "cell_type": "markdown",
   "metadata": {},
   "source": [
    "##  Identify the numeric, binary, and categorical columns"
   ]
  },
  {
   "cell_type": "code",
   "execution_count": 9,
   "metadata": {},
   "outputs": [],
   "source": [
    "train_inputs.dtypes\n",
    "\n",
    "# Identify the numerical columns\n",
    "numeric_columns = ['bathrooms','bedrooms', 'condition','floors','grade','lat','long','sqft_above','sqft_basement','sqft_living','sqft_living15','sqft_lot','sqft_lot15','view','yr_built','yr_renovated']\n",
    "\n",
    "# Identify the categorical columns\n",
    "categorical_columns = ['zipcode']\n",
    "\n",
    "# Identify the binary columns so we can pass them through without transforming\n",
    "binary_columns = ['waterfront']\n"
   ]
  },
  {
   "cell_type": "code",
   "execution_count": 10,
   "metadata": {},
   "outputs": [
    {
     "data": {
      "text/plain": [
       "['waterfront']"
      ]
     },
     "execution_count": 10,
     "metadata": {},
     "output_type": "execute_result"
    }
   ],
   "source": [
    "binary_columns"
   ]
  },
  {
   "cell_type": "code",
   "execution_count": 11,
   "metadata": {},
   "outputs": [
    {
     "data": {
      "text/plain": [
       "['zipcode']"
      ]
     },
     "execution_count": 11,
     "metadata": {},
     "output_type": "execute_result"
    }
   ],
   "source": [
    "categorical_columns"
   ]
  },
  {
   "cell_type": "code",
   "execution_count": 12,
   "metadata": {},
   "outputs": [
    {
     "data": {
      "text/plain": [
       "['bathrooms',\n",
       " 'bedrooms',\n",
       " 'condition',\n",
       " 'floors',\n",
       " 'grade',\n",
       " 'lat',\n",
       " 'long',\n",
       " 'sqft_above',\n",
       " 'sqft_basement',\n",
       " 'sqft_living',\n",
       " 'sqft_living15',\n",
       " 'sqft_lot',\n",
       " 'sqft_lot15',\n",
       " 'view',\n",
       " 'yr_built',\n",
       " 'yr_renovated']"
      ]
     },
     "execution_count": 12,
     "metadata": {},
     "output_type": "execute_result"
    }
   ],
   "source": [
    "numeric_columns"
   ]
  },
  {
   "attachments": {},
   "cell_type": "markdown",
   "metadata": {},
   "source": [
    "# Pipeline (recommended)\n",
    "\n",
    "If you don't want to use pipelines, feel free to use your own data prep steps."
   ]
  },
  {
   "cell_type": "code",
   "execution_count": 13,
   "metadata": {},
   "outputs": [],
   "source": [
    "# Numeric transformer:\n",
    "numeric_transformer = Pipeline(steps=[\n",
    "                ('imputer', SimpleImputer(strategy='median')),\n",
    "                ('scaler', StandardScaler())])"
   ]
  },
  {
   "cell_type": "code",
   "execution_count": 14,
   "metadata": {},
   "outputs": [],
   "source": [
    "# Categorical transformer:\n",
    "categorical_transformer = Pipeline(steps=[\n",
    "    ('imputer', SimpleImputer(strategy='constant', fill_value=99999)),\n",
    "    ('onehot', OneHotEncoder(handle_unknown='ignore'))])"
   ]
  },
  {
   "cell_type": "code",
   "execution_count": 15,
   "metadata": {},
   "outputs": [],
   "source": [
    "# Binary transformer:\n",
    "binary_transformer = Pipeline(steps=[\n",
    "    ('imputer', SimpleImputer(strategy='most_frequent'))])"
   ]
  },
  {
   "cell_type": "code",
   "execution_count": 16,
   "metadata": {},
   "outputs": [],
   "source": [
    "# Column transformer:\n",
    "preprocessor = ColumnTransformer([\n",
    "        ('num', numeric_transformer, numeric_columns),\n",
    "        ('cat', categorical_transformer, categorical_columns),\n",
    "        ('binary', binary_transformer, binary_columns)],\n",
    "        remainder='passthrough')"
   ]
  },
  {
   "attachments": {},
   "cell_type": "markdown",
   "metadata": {},
   "source": [
    "# Transform: fit_transform() for TRAIN"
   ]
  },
  {
   "cell_type": "code",
   "execution_count": 17,
   "metadata": {},
   "outputs": [
    {
     "data": {
      "text/plain": [
       "<15129x88 sparse matrix of type '<class 'numpy.float64'>'\n",
       "\twith 257310 stored elements in Compressed Sparse Row format>"
      ]
     },
     "execution_count": 17,
     "metadata": {},
     "output_type": "execute_result"
    }
   ],
   "source": [
    "#Fit and transform the train data\n",
    "train_x = preprocessor.fit_transform(train_inputs)\n",
    "\n",
    "train_x\n"
   ]
  },
  {
   "cell_type": "code",
   "execution_count": 18,
   "metadata": {},
   "outputs": [
    {
     "data": {
      "text/plain": [
       "(15129, 88)"
      ]
     },
     "execution_count": 18,
     "metadata": {},
     "output_type": "execute_result"
    }
   ],
   "source": [
    "train_x.shape"
   ]
  },
  {
   "attachments": {},
   "cell_type": "markdown",
   "metadata": {},
   "source": [
    "# Tranform: transform() for TEST"
   ]
  },
  {
   "cell_type": "code",
   "execution_count": 19,
   "metadata": {},
   "outputs": [
    {
     "data": {
      "text/plain": [
       "<6484x88 sparse matrix of type '<class 'numpy.float64'>'\n",
       "\twith 110274 stored elements in Compressed Sparse Row format>"
      ]
     },
     "execution_count": 19,
     "metadata": {},
     "output_type": "execute_result"
    }
   ],
   "source": [
    "# Transform the test data\n",
    "test_x = preprocessor.transform(test_inputs)\n",
    "\n",
    "test_x\n"
   ]
  },
  {
   "cell_type": "code",
   "execution_count": 20,
   "metadata": {},
   "outputs": [
    {
     "data": {
      "text/plain": [
       "(6484, 88)"
      ]
     },
     "execution_count": 20,
     "metadata": {},
     "output_type": "execute_result"
    }
   ],
   "source": [
    "test_x.shape"
   ]
  },
  {
   "attachments": {},
   "cell_type": "markdown",
   "metadata": {},
   "source": [
    "# Feature Names (optional)"
   ]
  },
  {
   "attachments": {},
   "cell_type": "markdown",
   "metadata": {},
   "source": [
    "You can get the feature names if you are running the new version of Scikit-Learn.\n",
    "\n",
    "First, check your version of scikit-learn. If it is below 1.1.1, you might have to update it to the latest version as described below:"
   ]
  },
  {
   "cell_type": "code",
   "execution_count": 21,
   "metadata": {},
   "outputs": [
    {
     "data": {
      "text/plain": [
       "'1.2.0'"
      ]
     },
     "execution_count": 21,
     "metadata": {},
     "output_type": "execute_result"
    }
   ],
   "source": [
    "import sklearn\n",
    "\n",
    "sklearn.__version__"
   ]
  },
  {
   "cell_type": "code",
   "execution_count": 22,
   "metadata": {},
   "outputs": [
    {
     "data": {
      "text/plain": [
       "array(['num__bathrooms', 'num__bedrooms', 'num__condition', 'num__floors',\n",
       "       'num__grade', 'num__lat', 'num__long', 'num__sqft_above',\n",
       "       'num__sqft_basement', 'num__sqft_living', 'num__sqft_living15',\n",
       "       'num__sqft_lot', 'num__sqft_lot15', 'num__view', 'num__yr_built',\n",
       "       'num__yr_renovated', 'cat__zipcode_98001.0',\n",
       "       'cat__zipcode_98002.0', 'cat__zipcode_98003.0',\n",
       "       'cat__zipcode_98004.0', 'cat__zipcode_98005.0',\n",
       "       'cat__zipcode_98006.0', 'cat__zipcode_98007.0',\n",
       "       'cat__zipcode_98008.0', 'cat__zipcode_98010.0',\n",
       "       'cat__zipcode_98011.0', 'cat__zipcode_98014.0',\n",
       "       'cat__zipcode_98019.0', 'cat__zipcode_98022.0',\n",
       "       'cat__zipcode_98023.0', 'cat__zipcode_98024.0',\n",
       "       'cat__zipcode_98027.0', 'cat__zipcode_98028.0',\n",
       "       'cat__zipcode_98029.0', 'cat__zipcode_98030.0',\n",
       "       'cat__zipcode_98031.0', 'cat__zipcode_98032.0',\n",
       "       'cat__zipcode_98033.0', 'cat__zipcode_98034.0',\n",
       "       'cat__zipcode_98038.0', 'cat__zipcode_98039.0',\n",
       "       'cat__zipcode_98040.0', 'cat__zipcode_98042.0',\n",
       "       'cat__zipcode_98045.0', 'cat__zipcode_98052.0',\n",
       "       'cat__zipcode_98053.0', 'cat__zipcode_98055.0',\n",
       "       'cat__zipcode_98056.0', 'cat__zipcode_98058.0',\n",
       "       'cat__zipcode_98059.0', 'cat__zipcode_98065.0',\n",
       "       'cat__zipcode_98070.0', 'cat__zipcode_98072.0',\n",
       "       'cat__zipcode_98074.0', 'cat__zipcode_98075.0',\n",
       "       'cat__zipcode_98077.0', 'cat__zipcode_98092.0',\n",
       "       'cat__zipcode_98102.0', 'cat__zipcode_98103.0',\n",
       "       'cat__zipcode_98105.0', 'cat__zipcode_98106.0',\n",
       "       'cat__zipcode_98107.0', 'cat__zipcode_98108.0',\n",
       "       'cat__zipcode_98109.0', 'cat__zipcode_98112.0',\n",
       "       'cat__zipcode_98115.0', 'cat__zipcode_98116.0',\n",
       "       'cat__zipcode_98117.0', 'cat__zipcode_98118.0',\n",
       "       'cat__zipcode_98119.0', 'cat__zipcode_98122.0',\n",
       "       'cat__zipcode_98125.0', 'cat__zipcode_98126.0',\n",
       "       'cat__zipcode_98133.0', 'cat__zipcode_98136.0',\n",
       "       'cat__zipcode_98144.0', 'cat__zipcode_98146.0',\n",
       "       'cat__zipcode_98148.0', 'cat__zipcode_98155.0',\n",
       "       'cat__zipcode_98166.0', 'cat__zipcode_98168.0',\n",
       "       'cat__zipcode_98177.0', 'cat__zipcode_98178.0',\n",
       "       'cat__zipcode_98188.0', 'cat__zipcode_98198.0',\n",
       "       'cat__zipcode_98199.0', 'cat__zipcode_99999.0',\n",
       "       'binary__waterfront'], dtype=object)"
      ]
     },
     "execution_count": 22,
     "metadata": {},
     "output_type": "execute_result"
    }
   ],
   "source": [
    "# Since my version is 1.2.0, Now we can retrieve the column names:\n",
    "\n",
    "preprocessor.get_feature_names_out()"
   ]
  },
  {
   "cell_type": "code",
   "execution_count": 24,
   "metadata": {},
   "outputs": [
    {
     "data": {
      "text/html": [
       "<div>\n",
       "<style scoped>\n",
       "    .dataframe tbody tr th:only-of-type {\n",
       "        vertical-align: middle;\n",
       "    }\n",
       "\n",
       "    .dataframe tbody tr th {\n",
       "        vertical-align: top;\n",
       "    }\n",
       "\n",
       "    .dataframe thead th {\n",
       "        text-align: right;\n",
       "    }\n",
       "</style>\n",
       "<table border=\"1\" class=\"dataframe\">\n",
       "  <thead>\n",
       "    <tr style=\"text-align: right;\">\n",
       "      <th></th>\n",
       "      <th>num__bathrooms</th>\n",
       "      <th>num__bedrooms</th>\n",
       "      <th>num__condition</th>\n",
       "      <th>num__floors</th>\n",
       "      <th>num__grade</th>\n",
       "      <th>num__lat</th>\n",
       "      <th>num__long</th>\n",
       "      <th>num__sqft_above</th>\n",
       "      <th>num__sqft_basement</th>\n",
       "      <th>num__sqft_living</th>\n",
       "      <th>...</th>\n",
       "      <th>cat__zipcode_98155.0</th>\n",
       "      <th>cat__zipcode_98166.0</th>\n",
       "      <th>cat__zipcode_98168.0</th>\n",
       "      <th>cat__zipcode_98177.0</th>\n",
       "      <th>cat__zipcode_98178.0</th>\n",
       "      <th>cat__zipcode_98188.0</th>\n",
       "      <th>cat__zipcode_98198.0</th>\n",
       "      <th>cat__zipcode_98199.0</th>\n",
       "      <th>cat__zipcode_99999.0</th>\n",
       "      <th>binary__waterfront</th>\n",
       "    </tr>\n",
       "  </thead>\n",
       "  <tbody>\n",
       "    <tr>\n",
       "      <th>0</th>\n",
       "      <td>0.175917</td>\n",
       "      <td>-0.399408</td>\n",
       "      <td>-0.627352</td>\n",
       "      <td>0.941617</td>\n",
       "      <td>-0.553271</td>\n",
       "      <td>-1.819530</td>\n",
       "      <td>-0.814467</td>\n",
       "      <td>-0.028098</td>\n",
       "      <td>-0.657178</td>\n",
       "      <td>-0.341652</td>\n",
       "      <td>...</td>\n",
       "      <td>0.0</td>\n",
       "      <td>0.0</td>\n",
       "      <td>0.0</td>\n",
       "      <td>0.0</td>\n",
       "      <td>0.0</td>\n",
       "      <td>0.0</td>\n",
       "      <td>0.0</td>\n",
       "      <td>0.0</td>\n",
       "      <td>0.0</td>\n",
       "      <td>0.0</td>\n",
       "    </tr>\n",
       "    <tr>\n",
       "      <th>1</th>\n",
       "      <td>-1.445927</td>\n",
       "      <td>-1.460079</td>\n",
       "      <td>-0.627352</td>\n",
       "      <td>-0.911727</td>\n",
       "      <td>-1.406092</td>\n",
       "      <td>1.266441</td>\n",
       "      <td>-0.864098</td>\n",
       "      <td>-1.444027</td>\n",
       "      <td>-0.657178</td>\n",
       "      <td>-1.620032</td>\n",
       "      <td>...</td>\n",
       "      <td>0.0</td>\n",
       "      <td>0.0</td>\n",
       "      <td>0.0</td>\n",
       "      <td>0.0</td>\n",
       "      <td>0.0</td>\n",
       "      <td>0.0</td>\n",
       "      <td>0.0</td>\n",
       "      <td>0.0</td>\n",
       "      <td>0.0</td>\n",
       "      <td>0.0</td>\n",
       "    </tr>\n",
       "    <tr>\n",
       "      <th>2</th>\n",
       "      <td>-0.797190</td>\n",
       "      <td>0.661263</td>\n",
       "      <td>-0.627352</td>\n",
       "      <td>0.014945</td>\n",
       "      <td>-0.553271</td>\n",
       "      <td>0.908061</td>\n",
       "      <td>-0.743567</td>\n",
       "      <td>-0.094376</td>\n",
       "      <td>-0.657178</td>\n",
       "      <td>-0.401491</td>\n",
       "      <td>...</td>\n",
       "      <td>0.0</td>\n",
       "      <td>0.0</td>\n",
       "      <td>0.0</td>\n",
       "      <td>0.0</td>\n",
       "      <td>0.0</td>\n",
       "      <td>0.0</td>\n",
       "      <td>0.0</td>\n",
       "      <td>0.0</td>\n",
       "      <td>0.0</td>\n",
       "      <td>0.0</td>\n",
       "    </tr>\n",
       "    <tr>\n",
       "      <th>3</th>\n",
       "      <td>0.824654</td>\n",
       "      <td>-0.399408</td>\n",
       "      <td>-0.627352</td>\n",
       "      <td>0.941617</td>\n",
       "      <td>0.299550</td>\n",
       "      <td>0.418901</td>\n",
       "      <td>-0.552135</td>\n",
       "      <td>-0.106426</td>\n",
       "      <td>0.518347</td>\n",
       "      <td>0.153380</td>\n",
       "      <td>...</td>\n",
       "      <td>0.0</td>\n",
       "      <td>0.0</td>\n",
       "      <td>0.0</td>\n",
       "      <td>0.0</td>\n",
       "      <td>0.0</td>\n",
       "      <td>0.0</td>\n",
       "      <td>0.0</td>\n",
       "      <td>0.0</td>\n",
       "      <td>0.0</td>\n",
       "      <td>0.0</td>\n",
       "    </tr>\n",
       "    <tr>\n",
       "      <th>4</th>\n",
       "      <td>0.500286</td>\n",
       "      <td>0.661263</td>\n",
       "      <td>-0.627352</td>\n",
       "      <td>0.941617</td>\n",
       "      <td>0.299550</td>\n",
       "      <td>-0.180085</td>\n",
       "      <td>2.461144</td>\n",
       "      <td>0.484046</td>\n",
       "      <td>-0.657178</td>\n",
       "      <td>0.120741</td>\n",
       "      <td>...</td>\n",
       "      <td>0.0</td>\n",
       "      <td>0.0</td>\n",
       "      <td>0.0</td>\n",
       "      <td>0.0</td>\n",
       "      <td>0.0</td>\n",
       "      <td>0.0</td>\n",
       "      <td>0.0</td>\n",
       "      <td>0.0</td>\n",
       "      <td>0.0</td>\n",
       "      <td>0.0</td>\n",
       "    </tr>\n",
       "    <tr>\n",
       "      <th>...</th>\n",
       "      <td>...</td>\n",
       "      <td>...</td>\n",
       "      <td>...</td>\n",
       "      <td>...</td>\n",
       "      <td>...</td>\n",
       "      <td>...</td>\n",
       "      <td>...</td>\n",
       "      <td>...</td>\n",
       "      <td>...</td>\n",
       "      <td>...</td>\n",
       "      <td>...</td>\n",
       "      <td>...</td>\n",
       "      <td>...</td>\n",
       "      <td>...</td>\n",
       "      <td>...</td>\n",
       "      <td>...</td>\n",
       "      <td>...</td>\n",
       "      <td>...</td>\n",
       "      <td>...</td>\n",
       "      <td>...</td>\n",
       "      <td>...</td>\n",
       "    </tr>\n",
       "    <tr>\n",
       "      <th>15124</th>\n",
       "      <td>-1.445927</td>\n",
       "      <td>-1.460079</td>\n",
       "      <td>-0.627352</td>\n",
       "      <td>-0.911727</td>\n",
       "      <td>-1.406092</td>\n",
       "      <td>1.129158</td>\n",
       "      <td>-0.502504</td>\n",
       "      <td>-1.058412</td>\n",
       "      <td>-0.657178</td>\n",
       "      <td>-1.271878</td>\n",
       "      <td>...</td>\n",
       "      <td>0.0</td>\n",
       "      <td>0.0</td>\n",
       "      <td>0.0</td>\n",
       "      <td>0.0</td>\n",
       "      <td>0.0</td>\n",
       "      <td>0.0</td>\n",
       "      <td>0.0</td>\n",
       "      <td>0.0</td>\n",
       "      <td>0.0</td>\n",
       "      <td>0.0</td>\n",
       "    </tr>\n",
       "    <tr>\n",
       "      <th>15125</th>\n",
       "      <td>-1.445927</td>\n",
       "      <td>-0.399408</td>\n",
       "      <td>0.911430</td>\n",
       "      <td>-0.911727</td>\n",
       "      <td>-0.553271</td>\n",
       "      <td>-0.415634</td>\n",
       "      <td>0.284493</td>\n",
       "      <td>-0.757151</td>\n",
       "      <td>-0.657178</td>\n",
       "      <td>-0.999882</td>\n",
       "      <td>...</td>\n",
       "      <td>0.0</td>\n",
       "      <td>0.0</td>\n",
       "      <td>0.0</td>\n",
       "      <td>0.0</td>\n",
       "      <td>0.0</td>\n",
       "      <td>0.0</td>\n",
       "      <td>0.0</td>\n",
       "      <td>0.0</td>\n",
       "      <td>0.0</td>\n",
       "      <td>0.0</td>\n",
       "    </tr>\n",
       "    <tr>\n",
       "      <th>15126</th>\n",
       "      <td>-1.445927</td>\n",
       "      <td>-0.399408</td>\n",
       "      <td>-0.627352</td>\n",
       "      <td>-0.911727</td>\n",
       "      <td>-0.553271</td>\n",
       "      <td>-0.962597</td>\n",
       "      <td>-0.771927</td>\n",
       "      <td>-0.720999</td>\n",
       "      <td>-0.657178</td>\n",
       "      <td>-0.967242</td>\n",
       "      <td>...</td>\n",
       "      <td>0.0</td>\n",
       "      <td>0.0</td>\n",
       "      <td>0.0</td>\n",
       "      <td>0.0</td>\n",
       "      <td>0.0</td>\n",
       "      <td>0.0</td>\n",
       "      <td>0.0</td>\n",
       "      <td>0.0</td>\n",
       "      <td>0.0</td>\n",
       "      <td>0.0</td>\n",
       "    </tr>\n",
       "    <tr>\n",
       "      <th>15127</th>\n",
       "      <td>-0.472821</td>\n",
       "      <td>-0.399408</td>\n",
       "      <td>-2.166133</td>\n",
       "      <td>-0.911727</td>\n",
       "      <td>0.299550</td>\n",
       "      <td>0.462976</td>\n",
       "      <td>1.199112</td>\n",
       "      <td>-0.708949</td>\n",
       "      <td>0.111435</td>\n",
       "      <td>-0.586448</td>\n",
       "      <td>...</td>\n",
       "      <td>0.0</td>\n",
       "      <td>0.0</td>\n",
       "      <td>0.0</td>\n",
       "      <td>0.0</td>\n",
       "      <td>0.0</td>\n",
       "      <td>0.0</td>\n",
       "      <td>0.0</td>\n",
       "      <td>0.0</td>\n",
       "      <td>0.0</td>\n",
       "      <td>0.0</td>\n",
       "    </tr>\n",
       "    <tr>\n",
       "      <th>15128</th>\n",
       "      <td>-0.472821</td>\n",
       "      <td>-0.399408</td>\n",
       "      <td>0.911430</td>\n",
       "      <td>0.941617</td>\n",
       "      <td>-0.553271</td>\n",
       "      <td>0.817743</td>\n",
       "      <td>-1.176061</td>\n",
       "      <td>-0.576394</td>\n",
       "      <td>-0.657178</td>\n",
       "      <td>-0.836684</td>\n",
       "      <td>...</td>\n",
       "      <td>0.0</td>\n",
       "      <td>0.0</td>\n",
       "      <td>0.0</td>\n",
       "      <td>0.0</td>\n",
       "      <td>0.0</td>\n",
       "      <td>0.0</td>\n",
       "      <td>0.0</td>\n",
       "      <td>0.0</td>\n",
       "      <td>0.0</td>\n",
       "      <td>0.0</td>\n",
       "    </tr>\n",
       "  </tbody>\n",
       "</table>\n",
       "<p>15129 rows × 88 columns</p>\n",
       "</div>"
      ],
      "text/plain": [
       "       num__bathrooms  num__bedrooms  num__condition  num__floors  num__grade  \\\n",
       "0            0.175917      -0.399408       -0.627352     0.941617   -0.553271   \n",
       "1           -1.445927      -1.460079       -0.627352    -0.911727   -1.406092   \n",
       "2           -0.797190       0.661263       -0.627352     0.014945   -0.553271   \n",
       "3            0.824654      -0.399408       -0.627352     0.941617    0.299550   \n",
       "4            0.500286       0.661263       -0.627352     0.941617    0.299550   \n",
       "...               ...            ...             ...          ...         ...   \n",
       "15124       -1.445927      -1.460079       -0.627352    -0.911727   -1.406092   \n",
       "15125       -1.445927      -0.399408        0.911430    -0.911727   -0.553271   \n",
       "15126       -1.445927      -0.399408       -0.627352    -0.911727   -0.553271   \n",
       "15127       -0.472821      -0.399408       -2.166133    -0.911727    0.299550   \n",
       "15128       -0.472821      -0.399408        0.911430     0.941617   -0.553271   \n",
       "\n",
       "       num__lat  num__long  num__sqft_above  num__sqft_basement  \\\n",
       "0     -1.819530  -0.814467        -0.028098           -0.657178   \n",
       "1      1.266441  -0.864098        -1.444027           -0.657178   \n",
       "2      0.908061  -0.743567        -0.094376           -0.657178   \n",
       "3      0.418901  -0.552135        -0.106426            0.518347   \n",
       "4     -0.180085   2.461144         0.484046           -0.657178   \n",
       "...         ...        ...              ...                 ...   \n",
       "15124  1.129158  -0.502504        -1.058412           -0.657178   \n",
       "15125 -0.415634   0.284493        -0.757151           -0.657178   \n",
       "15126 -0.962597  -0.771927        -0.720999           -0.657178   \n",
       "15127  0.462976   1.199112        -0.708949            0.111435   \n",
       "15128  0.817743  -1.176061        -0.576394           -0.657178   \n",
       "\n",
       "       num__sqft_living  ...  cat__zipcode_98155.0  cat__zipcode_98166.0  \\\n",
       "0             -0.341652  ...                   0.0                   0.0   \n",
       "1             -1.620032  ...                   0.0                   0.0   \n",
       "2             -0.401491  ...                   0.0                   0.0   \n",
       "3              0.153380  ...                   0.0                   0.0   \n",
       "4              0.120741  ...                   0.0                   0.0   \n",
       "...                 ...  ...                   ...                   ...   \n",
       "15124         -1.271878  ...                   0.0                   0.0   \n",
       "15125         -0.999882  ...                   0.0                   0.0   \n",
       "15126         -0.967242  ...                   0.0                   0.0   \n",
       "15127         -0.586448  ...                   0.0                   0.0   \n",
       "15128         -0.836684  ...                   0.0                   0.0   \n",
       "\n",
       "       cat__zipcode_98168.0  cat__zipcode_98177.0  cat__zipcode_98178.0  \\\n",
       "0                       0.0                   0.0                   0.0   \n",
       "1                       0.0                   0.0                   0.0   \n",
       "2                       0.0                   0.0                   0.0   \n",
       "3                       0.0                   0.0                   0.0   \n",
       "4                       0.0                   0.0                   0.0   \n",
       "...                     ...                   ...                   ...   \n",
       "15124                   0.0                   0.0                   0.0   \n",
       "15125                   0.0                   0.0                   0.0   \n",
       "15126                   0.0                   0.0                   0.0   \n",
       "15127                   0.0                   0.0                   0.0   \n",
       "15128                   0.0                   0.0                   0.0   \n",
       "\n",
       "       cat__zipcode_98188.0  cat__zipcode_98198.0  cat__zipcode_98199.0  \\\n",
       "0                       0.0                   0.0                   0.0   \n",
       "1                       0.0                   0.0                   0.0   \n",
       "2                       0.0                   0.0                   0.0   \n",
       "3                       0.0                   0.0                   0.0   \n",
       "4                       0.0                   0.0                   0.0   \n",
       "...                     ...                   ...                   ...   \n",
       "15124                   0.0                   0.0                   0.0   \n",
       "15125                   0.0                   0.0                   0.0   \n",
       "15126                   0.0                   0.0                   0.0   \n",
       "15127                   0.0                   0.0                   0.0   \n",
       "15128                   0.0                   0.0                   0.0   \n",
       "\n",
       "       cat__zipcode_99999.0  binary__waterfront  \n",
       "0                       0.0                 0.0  \n",
       "1                       0.0                 0.0  \n",
       "2                       0.0                 0.0  \n",
       "3                       0.0                 0.0  \n",
       "4                       0.0                 0.0  \n",
       "...                     ...                 ...  \n",
       "15124                   0.0                 0.0  \n",
       "15125                   0.0                 0.0  \n",
       "15126                   0.0                 0.0  \n",
       "15127                   0.0                 0.0  \n",
       "15128                   0.0                 0.0  \n",
       "\n",
       "[15129 rows x 88 columns]"
      ]
     },
     "execution_count": 24,
     "metadata": {},
     "output_type": "execute_result"
    }
   ],
   "source": [
    "# If you wanted, you can recreate the data set in the processed format:\n",
    "\n",
    "king_county_train_processed = pd.DataFrame(train_x.toarray(), columns=preprocessor.get_feature_names_out())\n",
    "\n",
    "king_county_train_processed"
   ]
  }
 ],
 "metadata": {
  "kernelspec": {
   "display_name": "base",
   "language": "python",
   "name": "python3"
  },
  "language_info": {
   "codemirror_mode": {
    "name": "ipython",
    "version": 3
   },
   "file_extension": ".py",
   "mimetype": "text/x-python",
   "name": "python",
   "nbconvert_exporter": "python",
   "pygments_lexer": "ipython3",
   "version": "3.9.12"
  },
  "nav_menu": {
   "height": "279px",
   "width": "309px"
  },
  "toc": {
   "base_numbering": 1,
   "nav_menu": {},
   "number_sections": false,
   "sideBar": true,
   "skip_h1_title": false,
   "title_cell": "Table of Contents",
   "title_sidebar": "Contents",
   "toc_cell": false,
   "toc_position": {},
   "toc_section_display": "block",
   "toc_window_display": true
  },
  "vscode": {
   "interpreter": {
    "hash": "6e8d503ca3497b2311276643aea34fa4462df8f5c0c9e65d3521006dbd5b3aa2"
   }
  }
 },
 "nbformat": 4,
 "nbformat_minor": 1
}
